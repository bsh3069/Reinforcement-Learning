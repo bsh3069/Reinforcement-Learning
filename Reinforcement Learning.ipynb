{
 "cells": [
  {
   "cell_type": "markdown",
   "metadata": {},
   "source": [
    "# Assignment 3 - Reinforcement Learning  "
   ]
  },
  {
   "cell_type": "markdown",
   "metadata": {},
   "source": [
    "<font color=\"blue\"> Nirvi Parikh </font>"
   ]
  },
  {
   "cell_type": "markdown",
   "metadata": {},
   "source": [
    "# Overview\n",
    "1.The main objective of Assignment 3 is to learn and understand Reinforcement Learning algorithm and further implement Maze Problem and Blackjack problem.<br>\n",
    "2.The TD learing method being used for Maze Problem is SARSA and Q-learning and Blackjack is Q-Learing.<br>\n",
    "3.Test cases have been evaluated for Maze and Blackjack problem and results for these test cases are simply the choice of the parameters.<br>\n",
    "4.Plots and visualization graphs are being generated corresponding to the code."
   ]
  },
  {
   "cell_type": "markdown",
   "metadata": {},
   "source": [
    "### SARSA and Q-Learning:\n",
    "\n",
    "SARSA and Q-Learning are approaches in Temporal Difference used to update the Q-table values if there are a large number of states. In this approach each state and action is mapped with a value belonging to real number which indicates the action that should be taken when in a particular state so as to maximize the rewards. So Q-table can be said store a mapping of states and actions to real number values and higher the value of the action for that state higher is the rewards we will get if we take that action while in that state.\n",
    "\n",
    "SARSA and Q-Learning are almost similar approaches with a slight variation in updating the Q-table. In SARSA we assume that we are following a certain policy and choose tha actions to be taken as if they were taken as that policy and update the Q-table accordingly. It is also called *on-policy* control. It can be given as\n",
    "\n",
    "$$\n",
    "    Q(s_t, a_t) \\leftarrow Q(s_t, a_t) + \\alpha ( R_{t+1} + \\gamma Q(s_{t+1}, a_{t+1}) - Q(s_t, a_t)) \n",
    "$$\n",
    "\n",
    "In Q-Learning or *off-policy* control we dont assume and follow any policy but rather update the Q-table exploring all policies and choosing the suitable one. It can be given as:\n",
    "\n",
    "\n",
    "$$\n",
    "    Q(s_t, a_t) \\leftarrow Q(s_t, a_t) + \\alpha ( R_{t+1} + \\gamma \\max_a Q(s_{t+1}, a) - Q(s_t, a_t)) \n",
    "$$\n"
   ]
  },
  {
   "cell_type": "markdown",
   "metadata": {},
   "source": [
    "# Problems \n",
    "\n",
    "## A. Maze Problem\n",
    "Maze problem is classical example of reinforcement learning technique for solving problems by a feedback system (rewards and penalties) applied on an agent which operates in an environment and needs to move through a series of states in order to reach a pre-defined final state.<br>\n",
    "<br>\n",
    "An example is a rat (agent) which is trying to find the shortest route from a starting cell to a target cheese cell in a maze (environment).<br>\n",
    "\n",
    "The agent is experimenting and exploiting past experiences (episodes) in order to achieve its goal. It may fail again and again, but hopefully, after lots of trial and error (rewards and penalties) it will arrive to the solution of the problem. The solution will be reached if the agent finds the optimal sequence of states in which the accumulated sum of rewards is maximal (in short, we lure the agent to accumulate a maximal reward, and while doing so, he actually solves our problem). It may happen that in order to reach the goal, the agent will have to endure many penalties (negative rewards) on its way.<br>"
   ]
  },
  {
   "cell_type": "code",
   "execution_count": 41,
   "metadata": {},
   "outputs": [],
   "source": [
    "import collections\n",
    "import numpy as np\n",
    "import pandas as pd\n",
    "import matplotlib.pyplot as plt\n",
    "%matplotlib inline"
   ]
  },
  {
   "cell_type": "markdown",
   "metadata": {},
   "source": [
    "### Sample Grid Environment File\n",
    "\n",
    "I have created a grid.txt file with three characters, 'O', 'H', and 'G'.\n",
    "- 'O': open space\n",
    "- 'H': Wall or obstacles\n",
    "- 'G': Goal location "
   ]
  },
  {
   "cell_type": "code",
   "execution_count": 42,
   "metadata": {},
   "outputs": [],
   "source": [
    "df=pd.read_csv(\"grid.txt\")"
   ]
  },
  {
   "cell_type": "markdown",
   "metadata": {},
   "source": [
    "### GridWorld Class\n"
   ]
  },
  {
   "cell_type": "code",
   "execution_count": 43,
   "metadata": {},
   "outputs": [
    {
     "ename": "IndentationError",
     "evalue": "unindent does not match any outer indentation level (<tokenize>, line 14)",
     "output_type": "error",
     "traceback": [
      "\u001b[1;36m  File \u001b[1;32m\"<tokenize>\"\u001b[1;36m, line \u001b[1;32m14\u001b[0m\n\u001b[1;33m    def get_cur_state(self):\u001b[0m\n\u001b[1;37m    ^\u001b[0m\n\u001b[1;31mIndentationError\u001b[0m\u001b[1;31m:\u001b[0m unindent does not match any outer indentation level\n"
     ]
    }
   ],
   "source": [
    "# maze example\n",
    "\n",
    "class GridWorld:\n",
    "        def __init__(self, fn):\n",
    "        # read a map from a file\n",
    "        self._map = self.read_map(fn)\n",
    "        self._size = np.asarray(self._map.shape)\n",
    "        self.goal_pos = np.where(self._map == 'G')\n",
    "\n",
    "        # definition of actions (left, right, up, and down repectively)\n",
    "        self._actions = [[0, -1], [0, 1], [-1, 0], [1, 0]]\n",
    "        self._s = None\n",
    "\n",
    "    def get_cur_state(self):\n",
    "        return self._s\n",
    "\n",
    "    def get_size(self):\n",
    "        return self._size\n",
    "\n",
    "    def read_map(self, fn):\n",
    "        grid = []\n",
    "        with open(fn) as f:\n",
    "            for line in f:\n",
    "               grid.append(list(line.strip()))\n",
    "        return np.asarray(grid)\n",
    "\n",
    "    def print_map(self):\n",
    "        print( self._map )\n",
    "\n",
    "    def check_state(self, s):\n",
    "        if isinstance(s, collections.Iterable) and len(s) == 2:\n",
    "            if s[0] < 0 or s[1] < 0 or\\\n",
    "               s[0] >= self._size[0] or s[1] >= self._size[1]:\n",
    "               return 'N'\n",
    "            return self._map[tuple(s)].upper()\n",
    "        else:\n",
    "            return 'F'  # wrong input\n",
    "\n",
    "    def init(self, state=None):\n",
    "        if state is None:\n",
    "            s = [0, 0]\n",
    "        else:\n",
    "            s = state\n",
    "\n",
    "        if self.check_state(s) == 'O':\n",
    "            self._s = np.asarray(state)\n",
    "        else:\n",
    "            raise ValueError(\"Invalid state for init\")\n",
    "\n",
    "    def next(self, a):\n",
    "        s1 = self._s + self._actions[a]\n",
    "        # state transition\n",
    "        curr = self.check_state(s1)\n",
    "        \n",
    "        if curr == 'H' or curr == 'N':\n",
    "            return -5\n",
    "        elif curr == 'F':\n",
    "            warnings.warn(\"invalid state \" + str(s1))\n",
    "            return -5\n",
    "        elif curr == 'G':\n",
    "            self._s = s1\n",
    "            return 30\n",
    "        else:\n",
    "            self._s = s1\n",
    "            return -1\n",
    "        \n",
    "    def is_goal(self):\n",
    "        return self.check_state(self._s) == 'G'\n",
    "            \n",
    "    def get_actions(self):\n",
    "        return self._actions"
   ]
  },
  {
   "cell_type": "markdown",
   "metadata": {},
   "source": [
    "## Explanation of GridWorld Environment:\n",
    "\n",
    "The *GridWorld* class contains all the methods required to train the agent to perform any task in the grid world environment.<br> \n",
    "It return certain characteristics of the grid.<br>\n",
    "It also agent at any given moment.<br>\n",
    "\n",
    "In Grid World environment there are four actions (left, right, up, and down) to move an agent in a grid.<br>\n",
    "-If it reaches a goal, it get 30 points of reward.<br>\n",
    "-If it falls in a hole or moves out of the grid world, it gets -5.<br>\n",
    "-Each step costs -1 point.<br>\n",
    "\n",
    "        \n",
    "        Parameters\n",
    "        ==========\n",
    "        _map        ndarray\n",
    "                    string array read from a file input\n",
    "        _size       1d array\n",
    "                    the size of _map in ndarray\n",
    "        goal_pos    tuple\n",
    "                    the index for the goal location\n",
    "        _actions    list\n",
    "                    list of actions for 4 actions\n",
    "        _s          1d array\n",
    "                    current state\n",
    "   \n",
    "\n",
    "Following are the method it includes and their functionalities:\n",
    "\n",
    "-get_cur_state():Returns the current state of the agent.<br>\n",
    "-get_size():Gives the size of the grid.<br>\n",
    "-read_map():Reads the file whose name is passed as a parameterand stores the contents as an array.<br>\n",
    "-print_map():Prints the grid.<br>\n",
    "-check_state(): This function verifies if the location of the agent is a valid grid location or not by comparing current location to the grid size.<br>\n",
    "-init():It takes state as parameter and initializes the grid to make the passed state as the start state and also verifies that the passed state is with grid limits and not an obstacle cell before making it the start state.<br>\n",
    "-next():Action to be taken is passed as parameter to this method and based on the current state and action passed, the agent is moved to the approporpriate direction. The reward that the agent receives as a result of the action is returned by the method.<br>\n",
    "-is_goal():Method verifies and returns boolean value if the current state is the goal state or not.<br>\n",
    "-get_actions():Returns the list of possible actions that agent has available.<br>"
   ]
  },
  {
   "cell_type": "code",
   "execution_count": 44,
   "metadata": {},
   "outputs": [
    {
     "name": "stdout",
     "output_type": "stream",
     "text": [
      "[['O' 'O' 'O' 'H' 'O' 'O' 'O' 'O' 'O']\n",
      " ['O' 'O' 'O' 'H' 'O' 'O' 'H' 'O' 'O']\n",
      " ['O' 'O' 'O' 'O' 'O' 'O' 'H' 'O' 'O']\n",
      " ['O' 'O' 'O' 'O' 'H' 'H' 'H' 'O' 'O']\n",
      " ['O' 'O' 'H' 'O' 'O' 'O' 'O' 'O' 'H']\n",
      " ['O' 'O' 'H' 'O' 'O' 'O' 'G' 'O' 'O']\n",
      " ['O' 'O' 'O' 'O' 'O' 'O' 'O' 'O' 'O']]\n"
     ]
    }
   ],
   "source": [
    "env = GridWorld(\"grid.txt\")\n",
    "env.print_map()"
   ]
  },
  {
   "cell_type": "code",
   "execution_count": 45,
   "metadata": {},
   "outputs": [],
   "source": [
    "# top-left to (0,0)\n",
    "def coord_convert(s, sz):\n",
    "    return [s[1], sz[0]-s[0]-1]"
   ]
  },
  {
   "cell_type": "markdown",
   "metadata": {},
   "source": [
    "### Preferred Approach\n",
    "\n",
    "For Maze Learning problem I have implemented both the policies."
   ]
  },
  {
   "cell_type": "markdown",
   "metadata": {},
   "source": [
    "## RLAgent for Maze\n"
   ]
  },
  {
   "cell_type": "code",
   "execution_count": 46,
   "metadata": {},
   "outputs": [],
   "source": [
    "class RLAgent: \n",
    "    \n",
    "    def __init__(self, evn):\n",
    "        self.env = env\n",
    "        self.size = env.get_size()\n",
    "        self.n_a = len(env.get_actions())\n",
    "        self.Q = np.zeros((self.size[0], self.size[1], self.n_a))\n",
    "    \n",
    "    \n",
    "    def greedy(self, Q, s):\n",
    "        return np.argmax(Q[s[0],s[1]])  # greedy action selection\n",
    "\n",
    "    def epsilon_greed(self, epsilon, s):\n",
    "        # TODO: Finish this function\n",
    "        if np.random.rand() < epsilon:\n",
    "            return np.random.randint(4)\n",
    "        else:\n",
    "            return self.greedy(self.Q,s)\n",
    "    \n",
    "    def train(self, start, **params):\n",
    "        \n",
    "        # parameters\n",
    "        gamma = params.pop('gamma', 0.99)\n",
    "        alpha = params.pop('alpha', 0.1)\n",
    "        epsilon= params.pop('epsilon', 0.1)\n",
    "        maxiter= params.pop('maxiter', 1000) \n",
    "        maxstep= params.pop('maxstep', 1000)\n",
    "        \n",
    "        # init self.Q matrix\n",
    "        self.Q[...] = 0\n",
    "        self.Q[self.env._map == 'H'] = -np.inf\n",
    "        \n",
    "        # online train\n",
    "        # rewards and step trace\n",
    "        rtrace = []\n",
    "        steps = []\n",
    "        for j in range(maxiter):\n",
    "\n",
    "            env.init(start)\n",
    "            s = env.get_cur_state()\n",
    "            # selection an action\n",
    "            a = self.epsilon_greed(epsilon, s)\n",
    "\n",
    "            rewards = []\n",
    "            trace = np.array(coord_convert(s, self.size))\n",
    "            # run simulation for max number of steps \n",
    "            for step in range(maxstep):\n",
    "                # move\n",
    "                r = env.next(a)\n",
    "                s1 = env.get_cur_state()\n",
    "                a1 = self.epsilon_greed(epsilon, s1)\n",
    "                #rint(\"step= \",step,\"new a1= \",a1,\"\\n\")\n",
    "                rewards.append(r)\n",
    "                trace = np.vstack((trace, coord_convert(s1, self.size)))\n",
    "\n",
    "                self.Q[s[0],s[1], a] += alpha * (r + gamma * self.Q[s1[0],s1[1], a1] - self.Q[s[0],s[1],a])  \n",
    "                \n",
    "                \n",
    "                if env.is_goal():                     \n",
    "                    self.Q[s1[0], s1[1], a1] = 0\n",
    "                    break\n",
    "\n",
    "                s = s1\n",
    "                a = a1\n",
    "\n",
    "            rtrace.append(np.sum(rewards))\n",
    "            steps.append(step+1)\n",
    "        return rtrace, steps, trace \n",
    "    def test(self, start, maxstep=1000):\n",
    "            env.init(start)\n",
    "            s = env.get_cur_state()\n",
    "            epsilon=0.1\n",
    "            a = self.epsilon_greed(epsilon, s)\n",
    "            trace = np.array(coord_convert(s, self.size))\n",
    "            for step in range(maxstep):\n",
    "                # move\n",
    "                r = env.next(a)\n",
    "                s1 = env.get_cur_state()\n",
    "                a1 = self.epsilon_greed(epsilon, s1)\n",
    "                trace = np.vstack((trace, coord_convert(s1, self.size)))\n",
    "\n",
    "                if env.is_goal(): \n",
    "                    self.Q[s1[0], s1[1], a1] = 0\n",
    "                    break\n",
    "\n",
    "                s = s1\n",
    "                a = a1\n",
    "\n",
    "            return trace            "
   ]
  },
  {
   "cell_type": "markdown",
   "metadata": {},
   "source": [
    "## Explaination of the RLAgent Class:\n",
    "\n",
    "The RLAgent class is the class containing all the methods to train the model using reinforcement learning and update and Q-table values using either *SARSA* or *Q-Learning* rule. It contains 4 methods described below:\n",
    "\n",
    "-init():It is the constructor of the class in order to set the environment to solve the GridWorld Problem.<br>\n",
    "\n",
    "-epsilon_greed():By using this method we can choose an action based on the current state of the agent. It takes epsilon and current state as the parameters and returns action to be taken as output.Futher we compare the epsilon value to a random integer and if it is greater we give a random action to be taken in that state and if its less then we call greed() method which chooses the action based on the Q table value for that state.\n",
    "\n",
    "-train():This is the main method used to train the model for solving the grid problem and updating the Q table concurrently. It initializes values of alpha, epsilon, gamma, maxiterations and max steps. It also keeps a track of steps and rewards as a part of the array. It takes the start state as one of the parameters from which we find the path to the goal state on the grid and initilizes values of Q table appropriately.We then traverse through 2 nested for loops of size maxiter and maxsteps to begin from starting position and try to reach the goal state by taking values either randomly or from Q-table.Finally the Q-table is updated to store the values for the states which can be used by the model in future and thats how the model is trained and every time an action is taken, the reward associated with that action is calculated and entry is made into the Q-table by either SARSA or Q-learning to train the model to identify which is best action for a state. The inner for loop is basically deciding the path and updating the Q-table based on the states encountered and rewards received. It checks if the goal state is reached and breaks from loop if goal is achieved whereas outer loop is for finding the different paths in order to improve the choosing of actions by the agent. Lastly the rewards are calculated after each action and returned as a sum of all rewards while reaching from start to goal in one itereation.<br>\n",
    "\n",
    "Why is Q-table entry for GOAL state 0?\n",
    "\n",
    "As indicated by me the move to be made when in a specific state is picked in light of a genuine number put away against that state in the Q-table. In view of the greatest number put away we make the fitting move in that state. However, when in GOAL state we might not want to make any further move since we have just accomplished the objective and subsequently we make it 0 with the goal that no further move perhaps made.\n",
    "\n",
    "-test():The test method is similar to the train method with only difference that we do not update the Q-table in here.\n"
   ]
  },
  {
   "cell_type": "markdown",
   "metadata": {},
   "source": [
    "### Utility functions for Plotting"
   ]
  },
  {
   "cell_type": "code",
   "execution_count": 47,
   "metadata": {},
   "outputs": [],
   "source": [
    "### Plotting tools \n",
    "\n",
    "def plot_trace(agent, start, trace, title=\"test trajectory\"):\n",
    "    plt.plot(trace[:, 0], trace[:, 1], \"ko-\")\n",
    "    plt.text(env.goal_pos[1], agent.size[0]-env.goal_pos[0]-1, 'G')\n",
    "    plt.text(start[1], agent.size[0]-start[0]-1, 'S')\n",
    "    plt.xlim([0, agent.size[1]])\n",
    "    plt.ylim([0, agent.size[0]])\n",
    "    \n",
    "\n",
    "def plot_train(agent, rtrace, steps, trace, start):\n",
    "\n",
    "    fig = plt.figure(figsize=(10,8))\n",
    "    ax = fig.add_subplot(221)\n",
    "    # TODO: plot rewards \n",
    "    plt.plot(rtrace)\n",
    "    plt.ylabel(\"sum of rewards\")\n",
    "\n",
    "    ax1 = fig.add_subplot(222)\n",
    "    # TODO: plot steps\n",
    "    plt.plot(steps)\n",
    "    plt.ylabel(\"# steps\")\n",
    "\n",
    "    # contour plot for agent.Q\n",
    "    ax2 = fig.add_subplot(223)\n",
    "    xs = range(agent.size[1])\n",
    "    ys = range(agent.size[0])\n",
    "    maxQ = np.max(agent.Q, axis=2)\n",
    "    h_b = (maxQ==-np.inf)\n",
    "    maxQ[h_b] = 0\n",
    "    maxQ[h_b] = np.min(maxQ) - 100\n",
    "    cs = plt.contourf(xs, ys[::-1], maxQ)\n",
    "    plt.colorbar(cs)\n",
    "    plt.text(env.goal_pos[1], agent.size[0]-env.goal_pos[0]-1, 'G')\n",
    "    plt.text(start[1], agent.size[0]-start[0]-1, 'S')\n",
    "    plt.ylabel(\"max agent.Q\")\n",
    "\n",
    "    # plot traces\n",
    "    ax3 = fig.add_subplot(224)\n",
    "    plot_trace(agent, start, trace, \"trace of the last episode\")\n",
    "\n",
    "    plt.plot()"
   ]
  },
  {
   "cell_type": "code",
   "execution_count": 48,
   "metadata": {},
   "outputs": [
    {
     "name": "stdout",
     "output_type": "stream",
     "text": [
      "[['O' 'O' 'O' 'H' 'O' 'O' 'O' 'O' 'O']\n",
      " ['O' 'O' 'O' 'H' 'O' 'O' 'H' 'O' 'O']\n",
      " ['O' 'O' 'O' 'O' 'O' 'O' 'H' 'O' 'O']\n",
      " ['O' 'O' 'O' 'O' 'H' 'H' 'H' 'O' 'O']\n",
      " ['O' 'O' 'H' 'O' 'O' 'O' 'O' 'O' 'H']\n",
      " ['O' 'O' 'H' 'O' 'O' 'O' 'G' 'O' 'O']\n",
      " ['O' 'O' 'O' 'O' 'O' 'O' 'O' 'O' 'O']]\n"
     ]
    }
   ],
   "source": [
    "env = GridWorld(\"grid.txt\")\n",
    "env.print_map()\n",
    "\n",
    "agent = RLAgent(env)\n",
    "start = [0,0]\n",
    "rtrace, steps, trace = agent.train(start, \n",
    "                                   gamma=0.99, \n",
    "                                   alpha=0.1, \n",
    "                                   epsilon=0.1, \n",
    "                                   maxiter=100, \n",
    "                                   maxstep=1000)"
   ]
  },
  {
   "cell_type": "code",
   "execution_count": 49,
   "metadata": {},
   "outputs": [
    {
     "data": {
      "image/png": "[encoded data removed]",
      "text/plain": [
       "<matplotlib.figure.Figure at 0x1a46836e978>"
      ]
     },
     "metadata": {},
     "output_type": "display_data"
    }
   ],
   "source": [
    "plot_train(agent, rtrace, steps, trace, start)"
   ]
  },
  {
   "cell_type": "code",
   "execution_count": 50,
   "metadata": {},
   "outputs": [
    {
     "data": {
      "image/png": "[encoded data removed]",
      "text/plain": [
       "<matplotlib.figure.Figure at 0x1a469e134a8>"
      ]
     },
     "metadata": {},
     "output_type": "display_data"
    }
   ],
   "source": [
    "test_start = [0,2]\n",
    "test_trace = agent.test(test_start)\n",
    "plot_trace(agent, test_start, test_trace)"
   ]
  },
  {
   "cell_type": "code",
   "execution_count": 51,
   "metadata": {},
   "outputs": [
    {
     "data": {
      "image/png": "[encoded data removed]",
      "text/plain": [
       "<matplotlib.figure.Figure at 0x1a469fa7358>"
      ]
     },
     "metadata": {},
     "output_type": "display_data"
    }
   ],
   "source": [
    "test_start = [1,8]\n",
    "test_trace = agent.test(test_start)\n",
    "plot_trace(agent, test_start, test_trace)"
   ]
  },
  {
   "cell_type": "markdown",
   "metadata": {},
   "source": [
    "## B. Blackjack-V0\n",
    "\n",
    "![](https://upload.wikimedia.org/wikipedia/commons/a/a2/Blackjack_game_1.JPG)\n",
    "\n",
    "Now, we play Blackjack! \n",
    "https://gym.openai.com/envs/Blackjack-v0/\n"
   ]
  },
  {
   "cell_type": "markdown",
   "metadata": {},
   "source": [
    "Blackjack is played with a standard international deck of cards with the Jokers removed, leaving 52 cards. \n",
    "\n",
    "After the dealer has shuffled a player will be selected at random and asked to take the cut card – a coloured plastic card matching the playing cards in size – and place it at a random position within stack of cards. The dealer will then move the cards above the cut card to the back of the stack. This technique is intended to demonstrate to the players that the dealer cannot have rigged the deck. The cut card is then reinserted into the stack of cards by the dealer at a pre-defined position and when this card is reached this indicates the final deal of the game before the cards are shuffled.\n",
    "\n",
    "Where multiple decks are used, after the shuffle the cards will be placed into a dispenser called a shoe. This piece of equipment has two purposes: to hold large stacks of cards in multi-deck games and make the practice of hole carding (cheating by catching a glimpse of the dealer’s hole card) more difficult. In fact hole carding is not illegal in the vast majority of jurisdictions. If the dealer is poorly trained or sloppy enough to fail to protect their down card from being seen by a player at the table this is not the player's fault and the player is not obliged to look away to prevent themselves seeing the down card. If however the player uses any form of device, for instance a metal lighter to observe the reflection in, or an accomplice off table signals the information to them, this is cheating. Hole carding is only legal where the player can see the card naturally from one of the player positions at the table.\n",
    "\n",
    "Card Values\n",
    "When playing Blackjack the numeral cards 2 to 10 have their face values, Jacks, Queens and Kings are valued at 10, and Aces can have a value of either 1 or 11. The Ace is always valued at 11 unless that would result in the hand going over 21, in which case it is valued as 1.\n",
    "\n",
    "Any hand with an Ace valued as 11 is called a ‘soft’ hand. All other hands are ‘hard’ hands.\n",
    "\n",
    "A starting hand of a 10 valued card and an Ace is called a Blackjack or natural and beats all hands other than another Blackjack. If both the player and dealer have Blackjack, the result is a push (tie): neither the player nor the bank wins and the bet is returned to the player."
   ]
  },
  {
   "cell_type": "markdown",
   "metadata": {
    "collapsed": true
   },
   "source": [
    "### BlackJack Class"
   ]
  },
  {
   "cell_type": "code",
   "execution_count": 52,
   "metadata": {},
   "outputs": [],
   "source": [
    "import gym\n",
    "from gym import spaces\n",
    "from gym.utils import seeding\n",
    "\n",
    "def cmp(a, b):\n",
    "    return float(a > b) - float(a < b)\n",
    "\n",
    "# 1 = Ace, 2-10 = Number cards, Jack/Queen/King = 10\n",
    "deck = [1, 2, 3, 4, 5, 6, 7, 8, 9, 10, 10, 10, 10]\n",
    "\n",
    "\n",
    "def draw_card(np_random):\n",
    "    return int(np_random.choice(deck))\n",
    "\n",
    "\n",
    "def draw_hand(np_random):\n",
    "    return [draw_card(np_random), draw_card(np_random)]\n",
    "\n",
    "\n",
    "def usable_ace(hand):  # Does this hand have a usable ace?\n",
    "    return 1 in hand and sum(hand) + 10 <= 21\n",
    "\n",
    "\n",
    "def sum_hand(hand):  # Return current hand total\n",
    "    if usable_ace(hand):\n",
    "        return sum(hand) + 10\n",
    "    return sum(hand)\n",
    "\n",
    "\n",
    "def is_bust(hand):  # Is this hand a bust?\n",
    "    return sum_hand(hand) > 21\n",
    "\n",
    "\n",
    "def score(hand):  # What is the score of this hand (0 if bust)\n",
    "    return 0 if is_bust(hand) else sum_hand(hand)\n",
    "\n",
    "\n",
    "def is_natural(hand):  # Is this hand a natural blackjack?\n",
    "    return sorted(hand) == [1, 10]\n",
    "\n",
    "\n",
    "class BlackjackEnv(gym.Env):\n",
    "    def __init__(self, natural=False):\n",
    "        self.action_space = spaces.Discrete(2)\n",
    "        self.observation_space = spaces.Tuple((\n",
    "            spaces.Discrete(32),\n",
    "            spaces.Discrete(11),\n",
    "            spaces.Discrete(2)))\n",
    "        self.seed()\n",
    "\n",
    "        # Flag to payout 1.5 on a \"natural\" blackjack win, like casino rules\n",
    "        # Ref: http://www.bicyclecards.com/how-to-play/blackjack/\n",
    "        self.natural = natural\n",
    "        # Start the first game\n",
    "        self.reset()\n",
    "\n",
    "    def seed(self, seed=None):\n",
    "        self.np_random, seed = seeding.np_random(seed)\n",
    "        return [seed]\n",
    "\n",
    "    def step(self, action):\n",
    "        assert self.action_space.contains(action)\n",
    "        if action:  # hit: add a card to players hand and return\n",
    "            self.player.append(draw_card(self.np_random))\n",
    "            if is_bust(self.player):\n",
    "                done = True\n",
    "                reward = -1\n",
    "            else:\n",
    "                done = False\n",
    "                reward = 0\n",
    "        else:  # stick: play out the dealers hand, and score\n",
    "            done = True\n",
    "            while sum_hand(self.dealer) < 17:\n",
    "                self.dealer.append(draw_card(self.np_random))\n",
    "            reward = cmp(score(self.player), score(self.dealer))\n",
    "            if self.natural and is_natural(self.player) and reward == 1:\n",
    "                reward = 1.5\n",
    "        return self._get_obs(), reward, done, {}\n",
    "\n",
    "    def _get_obs(self):\n",
    "        return (sum_hand(self.player), self.dealer[0], usable_ace(self.player))\n",
    "\n",
    "    def reset(self):\n",
    "        self.dealer = draw_hand(self.np_random)\n",
    "        self.player = draw_hand(self.np_random)\n",
    "        return self._get_obs()"
   ]
  },
  {
   "cell_type": "markdown",
   "metadata": {},
   "source": [
    "### Explanation of Blackjack Environment:\n",
    "\n",
    "The BlackJack-V0 environment is there in the BlackjackEnv class which imitates the real life blackjack playing environment. The BlackjackEnv class contains methods to handle possible scenarios that could occur while playing real life blackjack. The class contains 5 main methods with functionalities as follows:<br>\n",
    "\n",
    "-init():Contructor of the class to initantiate and initialize certain attributes.<br>\n",
    "-get_obs():Describes state as sum of players cards, dealers visible card and whether the player has a usable ace or not.<br>\n",
    "-reset():It is basically the initialization of the game where random cards are drawn and assigned to player and dealer and by calling reset method indicated that we are starting a new game of blackjack.<br>\n",
    "-step():This is the main method which takes action as the input and returns attributes like next state, reward and boolean variable indicating whether the game has been won by anyone or not. It checks if the action passed is a valid action and if valid, decides what impact the action will have on current state. Checks if action is hit and if yes draws a card. If this busts  then it returns appropriate rewards. If action is stick then it plays out the dealers hand calculates the score.Rewards of -1, 0 and 1 are assigned for loss, draw and wins respectivley and assigns 1.5 if natural win occurs.It handles the certain situations of blackjack like dealer drawing card if sum is less than 17.<br>\n",
    "    "
   ]
  },
  {
   "cell_type": "markdown",
   "metadata": {},
   "source": [
    "### Preferred Approach\n",
    "For Blackjack I have opted for Q-learning approach considering the simplicity of implementation and better understanding for the approach."
   ]
  },
  {
   "cell_type": "markdown",
   "metadata": {},
   "source": [
    "### RLAgent for BlackJack"
   ]
  },
  {
   "cell_type": "code",
   "execution_count": 53,
   "metadata": {},
   "outputs": [],
   "source": [
    "import gym\n",
    "import matplotlib.pyplot as plt\n",
    "import numpy as np\n",
    "env = gym.make('Blackjack-v0')\n",
    "import random"
   ]
  },
  {
   "cell_type": "code",
   "execution_count": 61,
   "metadata": {},
   "outputs": [],
   "source": [
    "class BlackJackAgent():\n",
    "    def __init__(self, env):\n",
    "        self.env = env\n",
    "        self.n_a = 2\n",
    "        self.observation_space = env.observation_space\n",
    "        self.Q= dict()\n",
    "        self.valid_actions=list(range(self.env.action_space.n))\n",
    "        self.epsilon = 0.1\n",
    "    \n",
    "\n",
    "    def epsilon_greedy(self, s):\n",
    "        if s not in self.Q:\n",
    "            self.Q[s] = dict((action, 0.0) for action in self.valid_actions)\n",
    "            \n",
    "        if random.random()>self.epsilon:\n",
    "            if s not in self.Q:\n",
    "                self.Q[observation] = dict((action, 0.0) for action in self.valid_actions)\n",
    "            maxQ=max(self.Q[s].values())\n",
    "            action = random.choice([k for k in self.Q[s].keys()\n",
    "                                    if self.Q[s][k] == maxQ])\n",
    "        else:\n",
    "            action = random.choice(self.valid_actions)\n",
    "        return action\n",
    "            \n",
    "   \n",
    "    def train(self,**params):\n",
    "        gamma = params.pop('gamma', 0.99)\n",
    "        alpha = params.pop('alpha', 0.1)\n",
    "        epsilon= params.pop('epsilon', 0.1)\n",
    "        maxepisodes = params.pop('maxepisodes',800)\n",
    "        rtrace=[]\n",
    "        rewards=[]\n",
    "        win=0\n",
    "        lose=0\n",
    "        draw=0\n",
    "        totalReward=0\n",
    "        for j in range(maxepisodes):\n",
    "            round=1\n",
    "            s = env.reset()\n",
    "            a = self.epsilon_greedy(s)\n",
    "            is_done = False\n",
    "            \n",
    "            for step in range(maxepisodes):\n",
    "                a = self.epsilon_greedy(s)\n",
    "                s1,payout,is_done,_ = env.step(a)\n",
    "                totalReward+=payout\n",
    "                a1=self.epsilon_greedy(s1)\n",
    "                self.Q[s][a] += alpha * (payout + gamma * self.Q[s1][a1]- self.Q[s][a])\n",
    "                \n",
    "                if is_done:\n",
    "                    env.reset()\n",
    "                    round+=1\n",
    "                    if payout>0:\n",
    "                        win+=1\n",
    "                    elif payout==0:\n",
    "                        draw+=1\n",
    "                    else:\n",
    "                        lose+=1\n",
    "                    break\n",
    "                rewards.append(totalReward)\n",
    "                s=s1\n",
    "                a=a1\n",
    "            rtrace.append(np.sum(rewards))\n",
    "        print(\"\\nTRAIN Method stats for alpha = \",alpha,\", epsilon = \",epsilon,\", gamma = \",gamma,\" and maxepisodes = \",maxepisodes,\": \")\n",
    "        print(\"WINS = \",win,\"\\t Win percentage = \",(win/maxepisodes)*100)\n",
    "        print(\"DRAWS = \",draw,\"\\t Draw percentage= \",(draw/maxepisodes)*100)\n",
    "        print(\"LOSSES = \",lose,\"\\t Loss percentage = \",(lose/maxepisodes)*100)\n",
    "        return rewards\n",
    "\n",
    "    def test(self,**params):\n",
    "            gamma = params.pop('gamma', 0.99)\n",
    "            alpha = params.pop('alpha', 0.1)\n",
    "            epsilon= params.pop('epsilon', 0.1)\n",
    "            maxepisodes = params.pop('maxepisodes',800)\n",
    "            rtrace=[]\n",
    "            win=0\n",
    "            lose=0\n",
    "            draw=0\n",
    "            for j in range(maxepisodes):\n",
    "                \n",
    "                s = env.reset()\n",
    "                a = self.epsilon_greedy(s)\n",
    "                #a=self.choose_action(s)\n",
    "                #print(\"s=\",s)\n",
    "                rewards=[]\n",
    "\n",
    "                is_done = False\n",
    "\n",
    "                for step in range(maxepisodes):\n",
    "                    a = self.epsilon_greedy(s)\n",
    "                    s1,payout,is_done,_ = env.step(a)\n",
    "                    a1=self.epsilon_greedy(s1)\n",
    "                    #self.Q[s][a] += alpha * (payout + gamma * self.Q[s1][a1]- self.Q[s][a])\n",
    "\n",
    "                    if is_done:\n",
    "                        if payout>0:\n",
    "                            win+=1\n",
    "                        elif payout==0:\n",
    "                            draw+=1\n",
    "                        else:\n",
    "                            lose+=1\n",
    "                        rewards.append(payout)\n",
    "                        break\n",
    "\n",
    "                    s=s1\n",
    "                    a=a1\n",
    "                rtrace.append(np.sum(rewards))\n",
    "            print(\"\\nTEST Method stats for alpha = \",alpha,\", epsilon = \",epsilon,\", gamma = \",gamma,\" and maxepisodes = \",maxepisodes,\": \")\n",
    "            print(\"WINS = \",win,\"\\t Win percentage = \",(win/maxepisodes)*100)\n",
    "            print(\"DRAWS = \",draw,\"\\t Draw percentage= \",(draw/maxepisodes)*100)\n",
    "            print(\"LOSSES = \",lose,\"\\t Loss percentage = \",(lose/maxepisodes)*100)\n",
    "            return\n",
    "\n",
    "    def test_Experiment(self,**params):\n",
    "            gamma = params.pop('gamma', 0.99)\n",
    "            alpha = params.pop('alpha', 0.1)\n",
    "            epsilon= params.pop('epsilon', 0.1)\n",
    "            maxepisodes = params.pop('maxepisodes',800)\n",
    "            rtrace=[]\n",
    "            win=0\n",
    "            lose=0\n",
    "            draw=0\n",
    "            gameReward=0\n",
    "            totalPayout=0\n",
    "            totalReward=[]\n",
    "            for j in range(maxepisodes):\n",
    "                \n",
    "                s = env.reset()\n",
    "                a = self.epsilon_greedy(s)\n",
    "                #a=self.choose_action(s)\n",
    "                #print(\"s=\",s)\n",
    "                rewards=[]\n",
    "\n",
    "                is_done = False\n",
    "\n",
    "                for step in range(maxepisodes):\n",
    "                    a = self.epsilon_greedy(s)\n",
    "                    s1,payout,is_done,_ = env.step(a)\n",
    "                    a1=self.epsilon_greedy(s1)\n",
    "                    totalPayout += payout \n",
    "                    if is_done:\n",
    "                        gameReward+=totalPayout\n",
    "                        if payout>0:\n",
    "                            win+=1\n",
    "                        elif payout==0:\n",
    "                            draw+=1\n",
    "                        else:\n",
    "                            lose+=1\n",
    "                        rewards.append(payout)\n",
    "                        break\n",
    "                    totalReward.append(gameReward)\n",
    "\n",
    "                    s=s1\n",
    "                    a=a1\n",
    "                rtrace.append(np.sum(rewards))\n",
    "            winPercentage = (win/maxepisodes)*100\n",
    "            return rtrace,winPercentage   \n",
    "        "
   ]
  },
  {
   "cell_type": "code",
   "execution_count": 63,
   "metadata": {},
   "outputs": [
    {
     "name": "stdout",
     "output_type": "stream",
     "text": [
      "\n",
      "TRAIN Method stats for alpha =  0.01 , epsilon =  0.1 , gamma =  0.99  and maxepisodes =  1000 : \n",
      "WINS =  362 \t Win percentage =  36.199999999999996\n",
      "DRAWS =  72 \t Draw percentage=  7.199999999999999\n",
      "LOSSES =  566 \t Loss percentage =  56.599999999999994\n",
      "\n",
      "TEST Method stats for alpha =  0.01 , epsilon =  0.1 , gamma =  0.99  and maxepisodes =  1000 : \n",
      "WINS =  287 \t Win percentage =  28.7\n",
      "DRAWS =  39 \t Draw percentage=  3.9\n",
      "LOSSES =  674 \t Loss percentage =  67.4\n",
      "\n",
      "TRAIN Method stats for alpha =  0.1 , epsilon =  0.1 , gamma =  0.99  and maxepisodes =  1000 : \n",
      "WINS =  371 \t Win percentage =  37.1\n",
      "DRAWS =  73 \t Draw percentage=  7.3\n",
      "LOSSES =  556 \t Loss percentage =  55.60000000000001\n",
      "\n",
      "TEST Method stats for alpha =  0.1 , epsilon =  0.1 , gamma =  0.99  and maxepisodes =  1000 : \n",
      "WINS =  276 \t Win percentage =  27.6\n",
      "DRAWS =  36 \t Draw percentage=  3.5999999999999996\n",
      "LOSSES =  688 \t Loss percentage =  68.8\n"
     ]
    }
   ],
   "source": [
    "a = BlackJackAgent(env)\n",
    "rewards=agent.train(alpha =0.01,epsilon=0.1,gamma=0.99,maxepisodes=1000)\n",
    "a.test(alpha =0.01,epsilon=0.1,gamma=0.99,maxepisodes=1000)\n",
    "a1= BlackJackAgent(env)\n",
    "a2= BlackJackAgent(env)\n",
    "rewards2=agent2.train(alpha =0.1,epsilon=0.1,gamma=0.99,maxepisodes=1000)\n",
    "a2.test(alpha =0.1,epsilon=0.1,gamma=0.99,maxepisodes=1000)"
   ]
  },
  {
   "cell_type": "code",
   "execution_count": 64,
   "metadata": {},
   "outputs": [
    {
     "data": {
      "image/png": "[encoded data removed]",
      "text/plain": [
       "<matplotlib.figure.Figure at 0x1a46a043e10>"
      ]
     },
     "metadata": {},
     "output_type": "display_data"
    }
   ],
   "source": [
    "plt.plot(rewards2)           \n",
    "plt.xlabel('samples')\n",
    "plt.ylabel('payout')\n",
    "plt.show()"
   ]
  },
  {
   "cell_type": "markdown",
   "metadata": {},
   "source": [
    "### Experiment to find optimal value of attributes to train the model"
   ]
  },
  {
   "cell_type": "code",
   "execution_count": 67,
   "metadata": {},
   "outputs": [
    {
     "name": "stdout",
     "output_type": "stream",
     "text": [
      "([-1.0, -1, -1, -1.0, 1.0, -1.0, -1, -1, 1.0, -1, -1.0, 1.0, 1.0, -1, 1.0, -1, 1.0, 1.0, -1.0, -1.0, -1, -1, 0.0, -1, 1.0, -1.0, -1.0, 1.0, 1.0, 1.0, -1, -1.0, 1.0, -1, -1, 1.0, -1.0, -1.0, -1.0, 1.0, 1.0, 1.0, -1, 1.0, -1.0, 1.0, 1.0, 1.0, -1, 1.0, -1, -1, -1, -1.0, -1.0, 1.0, -1, -1, -1.0, -1.0, -1.0, -1.0, 1.0, -1.0, 1.0, 1.0, -1, 1.0, -1.0, -1, -1, -1, -1, -1, -1.0, -1, 1.0, -1, -1, -1.0, -1.0, -1.0, 1.0, 1.0, -1.0, -1.0, -1.0, 0.0, 1.0, -1.0, -1, 1.0, -1, -1.0, 1.0, -1, -1.0, -1, -1, -1.0, 1.0, 1.0, -1.0, -1.0, -1.0, -1.0, -1, 1.0, -1, -1, 1.0, -1.0, -1, 0.0, -1, -1.0, 1.0, -1, -1.0, -1, -1, -1.0, -1.0, 1.0, 1.0, -1.0, -1, -1.0, -1, -1.0, -1.0, -1.0, 0.0, -1.0, -1.0, -1.0, -1, -1, 1.0, -1.0, 1.0, -1, -1, 1.0, -1.0, -1, -1, -1, 1.0, 1.0, -1.0, -1, 1.0, -1.0, 0.0, -1.0, -1, 0.0, 1.0, -1, 1.0, -1, -1, 1.0, -1.0, 1.0, 1.0, -1, -1, -1.0, 1.0, -1, -1.0, 1.0, -1.0, 0.0, -1.0, -1.0, -1.0, -1.0, -1.0, -1, 0.0, 1.0, -1, -1, -1.0, 1.0, -1, 0.0, 1.0, 1.0, -1.0, -1, -1.0, -1, -1, 1.0, -1, 0.0, 1.0, 0.0, -1, 1.0, -1, 1.0, -1.0, -1.0, 1.0, 1.0, 0.0, -1, 1.0, -1, -1.0, -1.0, -1.0, -1, 1.0, -1, 1.0, -1.0, -1.0, -1.0, -1.0, 1.0, 1.0, -1.0, -1, 1.0, -1, 0.0, -1.0, -1, -1, -1, -1.0, 0.0, -1.0, -1, -1.0, 0.0, -1.0, -1.0, -1, -1.0, -1, 1.0, -1.0, -1, -1, -1, -1.0, -1, -1, 1.0, 1.0, -1, 1.0, 1.0, -1.0, -1.0, 1.0, 1.0, -1.0, -1.0, -1, 1.0, -1, -1.0, 1.0, -1.0, 1.0, -1.0, -1, -1.0, 1.0, 1.0, -1.0, -1, 1.0, -1, 1.0, -1, 1.0, -1, 1.0, 1.0, 1.0, -1, 1.0, -1.0, -1, -1, -1.0, -1.0, 1.0, -1, -1, -1, 1.0, -1, 1.0, -1.0, -1, -1, -1.0, 1.0, -1, 1.0, -1.0, -1, -1.0, 1.0, 1.0, -1, -1, -1, 1.0, -1, -1, -1.0, 0.0, 1.0, -1.0, 1.0, 1.0, -1.0, -1.0, 1.0, 1.0, -1, 1.0, 0.0, 1.0, -1, 1.0, -1.0, -1.0, 1.0, -1, -1, -1, -1, 1.0, -1, -1.0, -1, 1.0, -1.0, -1, -1, -1.0, -1, -1.0, 0.0, 1.0, 1.0, -1, -1.0, -1.0, -1.0, -1.0, -1, 1.0, -1, 1.0, -1, 0.0, 1.0, -1, -1.0, -1, -1.0, -1, -1.0, -1, 1.0, -1, -1, -1.0, -1, -1.0, -1.0, -1, 1.0, -1.0, -1, 1.0, 1.0, -1, -1.0, -1.0, -1, -1, -1.0, -1.0, -1.0, -1, -1, 1.0, 1.0, -1, -1, -1.0, -1.0, -1.0, 1.0, -1, 1.0, -1.0, -1, -1, -1.0, 1.0, 1.0, 1.0, -1, 1.0, -1.0, 0.0, 1.0, 1.0, -1.0, 1.0, -1, -1, -1, -1.0, -1, 0.0, -1, 1.0, -1.0, 1.0, 1.0, 1.0, -1.0, -1.0, 1.0, 1.0, -1.0, 1.0, -1, -1.0, -1.0, 1.0, 1.0, -1, -1.0, 1.0, -1.0, -1, -1, -1, -1, 1.0, -1, -1.0, -1, -1, -1, -1, -1.0, 1.0, -1.0, -1.0, -1, 1.0, -1, -1.0, -1, 1.0, -1, -1.0, 1.0, 1.0, -1, -1.0, 1.0, -1, 1.0, -1.0, -1.0, -1.0, -1, -1.0, -1.0, 1.0, -1, -1.0, -1, -1.0, -1.0, -1.0, -1.0, 1.0, -1, -1.0, 1.0, -1, -1.0, 1.0, -1, -1.0, 1.0, 1.0, -1, -1, -1, -1, -1, 1.0, -1.0, -1.0, -1, -1, 0.0, 1.0, -1, -1.0, -1.0, -1.0, 1.0, -1, -1, -1, -1.0, -1.0, -1, 1.0, 1.0, 1.0, -1.0, -1, -1, -1.0, 1.0, -1, 0.0, 1.0, 0.0, -1, 1.0, 1.0, -1.0, -1, -1, -1.0, 0.0, 1.0, -1, -1.0, 1.0, 1.0, -1.0, 1.0, 1.0, -1.0, 1.0, -1, 1.0, -1.0, -1, -1, -1, -1.0, 1.0, 0.0, -1, -1.0, -1.0, -1.0, -1, 1.0, -1.0, 1.0, -1, -1.0, 0.0, -1, 1.0, -1, -1, -1, -1, 1.0, -1, 1.0, -1.0, -1.0, -1, -1, 1.0, 1.0, -1.0, 1.0, 1.0, 1.0, 1.0, 1.0, -1.0, 1.0, -1, -1, 1.0, 1.0, -1, -1.0, -1.0, -1, -1.0, -1.0, -1.0, 1.0, 1.0, -1.0, 1.0, -1.0, -1.0, 1.0, -1, 1.0, 1.0, 1.0, 1.0, -1, -1.0, -1.0, -1, -1, -1.0, 1.0, -1.0, -1.0, 1.0, -1.0, 1.0, 1.0, -1.0, 1.0, -1.0, -1, 1.0, -1.0, -1.0, 1.0, -1, -1.0, 1.0, 0.0, -1, 1.0, -1.0, -1.0, 0.0, 0.0, -1.0, -1.0, 1.0, -1, -1, -1.0, -1, 1.0, -1.0, -1.0, -1, -1, -1, -1, 1.0, -1, -1, -1, 1.0, -1, -1, -1, 1.0, -1.0, -1.0, -1.0, -1, -1.0, -1.0, -1.0, 1.0, -1, -1.0, 1.0, -1, -1.0, -1, 1.0, -1, -1.0, -1.0, 1.0, -1.0, -1.0, -1, -1.0, -1.0, -1.0, -1.0, 1.0, -1, -1.0, -1.0, -1.0, -1.0, 1.0, -1.0, -1.0, 1.0, 0.0, -1.0, -1, 1.0, -1.0, 1.0, -1.0, -1.0, -1.0, -1, -1.0, -1.0, 0.0, 1.0, -1.0, -1.0, -1.0, 1.0, -1, -1.0, -1, 1.0, 1.0, -1.0, -1.0, 1.0, 1.0, -1, -1.0, 1.0, -1, -1.0, -1.0, -1.0, 1.0, -1.0, -1.0, 1.0, -1.0, -1, 1.0, -1.0, -1, -1.0, 1.0, -1.0, -1.0, -1.0, 1.0, -1.0, -1, -1.0, 1.0, -1, 0.0, -1, -1.0, -1.0, -1.0, -1.0, 1.0, -1, 1.0, -1.0, -1, -1.0, -1.0, -1.0, -1.0, -1.0, -1.0, -1, -1, 1.0, 0.0, -1, 1.0, -1.0, -1, 1.0, -1, -1, -1.0, -1.0], 28.999999999999996)\n"
     ]
    },
    {
     "ename": "ValueError",
     "evalue": "setting an array element with a sequence.",
     "output_type": "error",
     "traceback": [
      "\u001b[1;31m---------------------------------------------------------------------------\u001b[0m",
      "\u001b[1;31mValueError\u001b[0m                                Traceback (most recent call last)",
      "\u001b[1;32m<ipython-input-67-9f750994fbc4>\u001b[0m in \u001b[0;36m<module>\u001b[1;34m()\u001b[0m\n\u001b[0;32m      8\u001b[0m \u001b[1;32mfor\u001b[0m \u001b[0mreward\u001b[0m \u001b[1;32min\u001b[0m \u001b[0mcalculatedRewards\u001b[0m\u001b[1;33m:\u001b[0m\u001b[1;33m\u001b[0m\u001b[0m\n\u001b[0;32m      9\u001b[0m     \u001b[0mprint\u001b[0m\u001b[1;33m(\u001b[0m\u001b[0mreward\u001b[0m\u001b[1;33m)\u001b[0m\u001b[1;33m\u001b[0m\u001b[0m\n\u001b[1;32m---> 10\u001b[1;33m     \u001b[0mplt\u001b[0m\u001b[1;33m.\u001b[0m\u001b[0mplot\u001b[0m\u001b[1;33m(\u001b[0m\u001b[0mreward\u001b[0m\u001b[1;33m)\u001b[0m\u001b[1;33m\u001b[0m\u001b[0m\n\u001b[0m",
      "\u001b[1;32m~\\Anaconda3\\lib\\site-packages\\matplotlib\\pyplot.py\u001b[0m in \u001b[0;36mplot\u001b[1;34m(*args, **kwargs)\u001b[0m\n\u001b[0;32m   3259\u001b[0m                       mplDeprecation)\n\u001b[0;32m   3260\u001b[0m     \u001b[1;32mtry\u001b[0m\u001b[1;33m:\u001b[0m\u001b[1;33m\u001b[0m\u001b[0m\n\u001b[1;32m-> 3261\u001b[1;33m         \u001b[0mret\u001b[0m \u001b[1;33m=\u001b[0m \u001b[0max\u001b[0m\u001b[1;33m.\u001b[0m\u001b[0mplot\u001b[0m\u001b[1;33m(\u001b[0m\u001b[1;33m*\u001b[0m\u001b[0margs\u001b[0m\u001b[1;33m,\u001b[0m \u001b[1;33m**\u001b[0m\u001b[0mkwargs\u001b[0m\u001b[1;33m)\u001b[0m\u001b[1;33m\u001b[0m\u001b[0m\n\u001b[0m\u001b[0;32m   3262\u001b[0m     \u001b[1;32mfinally\u001b[0m\u001b[1;33m:\u001b[0m\u001b[1;33m\u001b[0m\u001b[0m\n\u001b[0;32m   3263\u001b[0m         \u001b[0max\u001b[0m\u001b[1;33m.\u001b[0m\u001b[0m_hold\u001b[0m \u001b[1;33m=\u001b[0m \u001b[0mwashold\u001b[0m\u001b[1;33m\u001b[0m\u001b[0m\n",
      "\u001b[1;32m~\\Anaconda3\\lib\\site-packages\\matplotlib\\__init__.py\u001b[0m in \u001b[0;36minner\u001b[1;34m(ax, *args, **kwargs)\u001b[0m\n\u001b[0;32m   1715\u001b[0m                     warnings.warn(msg % (label_namer, func.__name__),\n\u001b[0;32m   1716\u001b[0m                                   RuntimeWarning, stacklevel=2)\n\u001b[1;32m-> 1717\u001b[1;33m             \u001b[1;32mreturn\u001b[0m \u001b[0mfunc\u001b[0m\u001b[1;33m(\u001b[0m\u001b[0max\u001b[0m\u001b[1;33m,\u001b[0m \u001b[1;33m*\u001b[0m\u001b[0margs\u001b[0m\u001b[1;33m,\u001b[0m \u001b[1;33m**\u001b[0m\u001b[0mkwargs\u001b[0m\u001b[1;33m)\u001b[0m\u001b[1;33m\u001b[0m\u001b[0m\n\u001b[0m\u001b[0;32m   1718\u001b[0m         \u001b[0mpre_doc\u001b[0m \u001b[1;33m=\u001b[0m \u001b[0minner\u001b[0m\u001b[1;33m.\u001b[0m\u001b[0m__doc__\u001b[0m\u001b[1;33m\u001b[0m\u001b[0m\n\u001b[0;32m   1719\u001b[0m         \u001b[1;32mif\u001b[0m \u001b[0mpre_doc\u001b[0m \u001b[1;32mis\u001b[0m \u001b[1;32mNone\u001b[0m\u001b[1;33m:\u001b[0m\u001b[1;33m\u001b[0m\u001b[0m\n",
      "\u001b[1;32m~\\Anaconda3\\lib\\site-packages\\matplotlib\\axes\\_axes.py\u001b[0m in \u001b[0;36mplot\u001b[1;34m(self, *args, **kwargs)\u001b[0m\n\u001b[0;32m   1371\u001b[0m \u001b[1;33m\u001b[0m\u001b[0m\n\u001b[0;32m   1372\u001b[0m         \u001b[1;32mfor\u001b[0m \u001b[0mline\u001b[0m \u001b[1;32min\u001b[0m \u001b[0mself\u001b[0m\u001b[1;33m.\u001b[0m\u001b[0m_get_lines\u001b[0m\u001b[1;33m(\u001b[0m\u001b[1;33m*\u001b[0m\u001b[0margs\u001b[0m\u001b[1;33m,\u001b[0m \u001b[1;33m**\u001b[0m\u001b[0mkwargs\u001b[0m\u001b[1;33m)\u001b[0m\u001b[1;33m:\u001b[0m\u001b[1;33m\u001b[0m\u001b[0m\n\u001b[1;32m-> 1373\u001b[1;33m             \u001b[0mself\u001b[0m\u001b[1;33m.\u001b[0m\u001b[0madd_line\u001b[0m\u001b[1;33m(\u001b[0m\u001b[0mline\u001b[0m\u001b[1;33m)\u001b[0m\u001b[1;33m\u001b[0m\u001b[0m\n\u001b[0m\u001b[0;32m   1374\u001b[0m             \u001b[0mlines\u001b[0m\u001b[1;33m.\u001b[0m\u001b[0mappend\u001b[0m\u001b[1;33m(\u001b[0m\u001b[0mline\u001b[0m\u001b[1;33m)\u001b[0m\u001b[1;33m\u001b[0m\u001b[0m\n\u001b[0;32m   1375\u001b[0m \u001b[1;33m\u001b[0m\u001b[0m\n",
      "\u001b[1;32m~\\Anaconda3\\lib\\site-packages\\matplotlib\\axes\\_base.py\u001b[0m in \u001b[0;36madd_line\u001b[1;34m(self, line)\u001b[0m\n\u001b[0;32m   1777\u001b[0m             \u001b[0mline\u001b[0m\u001b[1;33m.\u001b[0m\u001b[0mset_clip_path\u001b[0m\u001b[1;33m(\u001b[0m\u001b[0mself\u001b[0m\u001b[1;33m.\u001b[0m\u001b[0mpatch\u001b[0m\u001b[1;33m)\u001b[0m\u001b[1;33m\u001b[0m\u001b[0m\n\u001b[0;32m   1778\u001b[0m \u001b[1;33m\u001b[0m\u001b[0m\n\u001b[1;32m-> 1779\u001b[1;33m         \u001b[0mself\u001b[0m\u001b[1;33m.\u001b[0m\u001b[0m_update_line_limits\u001b[0m\u001b[1;33m(\u001b[0m\u001b[0mline\u001b[0m\u001b[1;33m)\u001b[0m\u001b[1;33m\u001b[0m\u001b[0m\n\u001b[0m\u001b[0;32m   1780\u001b[0m         \u001b[1;32mif\u001b[0m \u001b[1;32mnot\u001b[0m \u001b[0mline\u001b[0m\u001b[1;33m.\u001b[0m\u001b[0mget_label\u001b[0m\u001b[1;33m(\u001b[0m\u001b[1;33m)\u001b[0m\u001b[1;33m:\u001b[0m\u001b[1;33m\u001b[0m\u001b[0m\n\u001b[0;32m   1781\u001b[0m             \u001b[0mline\u001b[0m\u001b[1;33m.\u001b[0m\u001b[0mset_label\u001b[0m\u001b[1;33m(\u001b[0m\u001b[1;34m'_line%d'\u001b[0m \u001b[1;33m%\u001b[0m \u001b[0mlen\u001b[0m\u001b[1;33m(\u001b[0m\u001b[0mself\u001b[0m\u001b[1;33m.\u001b[0m\u001b[0mlines\u001b[0m\u001b[1;33m)\u001b[0m\u001b[1;33m)\u001b[0m\u001b[1;33m\u001b[0m\u001b[0m\n",
      "\u001b[1;32m~\\Anaconda3\\lib\\site-packages\\matplotlib\\axes\\_base.py\u001b[0m in \u001b[0;36m_update_line_limits\u001b[1;34m(self, line)\u001b[0m\n\u001b[0;32m   1799\u001b[0m         \u001b[0mFigures\u001b[0m \u001b[0mout\u001b[0m \u001b[0mthe\u001b[0m \u001b[0mdata\u001b[0m \u001b[0mlimit\u001b[0m \u001b[0mof\u001b[0m \u001b[0mthe\u001b[0m \u001b[0mgiven\u001b[0m \u001b[0mline\u001b[0m\u001b[1;33m,\u001b[0m \u001b[0mupdating\u001b[0m \u001b[0mself\u001b[0m\u001b[1;33m.\u001b[0m\u001b[0mdataLim\u001b[0m\u001b[1;33m.\u001b[0m\u001b[1;33m\u001b[0m\u001b[0m\n\u001b[0;32m   1800\u001b[0m         \"\"\"\n\u001b[1;32m-> 1801\u001b[1;33m         \u001b[0mpath\u001b[0m \u001b[1;33m=\u001b[0m \u001b[0mline\u001b[0m\u001b[1;33m.\u001b[0m\u001b[0mget_path\u001b[0m\u001b[1;33m(\u001b[0m\u001b[1;33m)\u001b[0m\u001b[1;33m\u001b[0m\u001b[0m\n\u001b[0m\u001b[0;32m   1802\u001b[0m         \u001b[1;32mif\u001b[0m \u001b[0mpath\u001b[0m\u001b[1;33m.\u001b[0m\u001b[0mvertices\u001b[0m\u001b[1;33m.\u001b[0m\u001b[0msize\u001b[0m \u001b[1;33m==\u001b[0m \u001b[1;36m0\u001b[0m\u001b[1;33m:\u001b[0m\u001b[1;33m\u001b[0m\u001b[0m\n\u001b[0;32m   1803\u001b[0m             \u001b[1;32mreturn\u001b[0m\u001b[1;33m\u001b[0m\u001b[0m\n",
      "\u001b[1;32m~\\Anaconda3\\lib\\site-packages\\matplotlib\\lines.py\u001b[0m in \u001b[0;36mget_path\u001b[1;34m(self)\u001b[0m\n\u001b[0;32m    955\u001b[0m         \"\"\"\n\u001b[0;32m    956\u001b[0m         \u001b[1;32mif\u001b[0m \u001b[0mself\u001b[0m\u001b[1;33m.\u001b[0m\u001b[0m_invalidy\u001b[0m \u001b[1;32mor\u001b[0m \u001b[0mself\u001b[0m\u001b[1;33m.\u001b[0m\u001b[0m_invalidx\u001b[0m\u001b[1;33m:\u001b[0m\u001b[1;33m\u001b[0m\u001b[0m\n\u001b[1;32m--> 957\u001b[1;33m             \u001b[0mself\u001b[0m\u001b[1;33m.\u001b[0m\u001b[0mrecache\u001b[0m\u001b[1;33m(\u001b[0m\u001b[1;33m)\u001b[0m\u001b[1;33m\u001b[0m\u001b[0m\n\u001b[0m\u001b[0;32m    958\u001b[0m         \u001b[1;32mreturn\u001b[0m \u001b[0mself\u001b[0m\u001b[1;33m.\u001b[0m\u001b[0m_path\u001b[0m\u001b[1;33m\u001b[0m\u001b[0m\n\u001b[0;32m    959\u001b[0m \u001b[1;33m\u001b[0m\u001b[0m\n",
      "\u001b[1;32m~\\Anaconda3\\lib\\site-packages\\matplotlib\\lines.py\u001b[0m in \u001b[0;36mrecache\u001b[1;34m(self, always)\u001b[0m\n\u001b[0;32m    661\u001b[0m         \u001b[1;32mif\u001b[0m \u001b[0malways\u001b[0m \u001b[1;32mor\u001b[0m \u001b[0mself\u001b[0m\u001b[1;33m.\u001b[0m\u001b[0m_invalidy\u001b[0m\u001b[1;33m:\u001b[0m\u001b[1;33m\u001b[0m\u001b[0m\n\u001b[0;32m    662\u001b[0m             \u001b[0myconv\u001b[0m \u001b[1;33m=\u001b[0m \u001b[0mself\u001b[0m\u001b[1;33m.\u001b[0m\u001b[0mconvert_yunits\u001b[0m\u001b[1;33m(\u001b[0m\u001b[0mself\u001b[0m\u001b[1;33m.\u001b[0m\u001b[0m_yorig\u001b[0m\u001b[1;33m)\u001b[0m\u001b[1;33m\u001b[0m\u001b[0m\n\u001b[1;32m--> 663\u001b[1;33m             \u001b[0my\u001b[0m \u001b[1;33m=\u001b[0m \u001b[0m_to_unmasked_float_array\u001b[0m\u001b[1;33m(\u001b[0m\u001b[0myconv\u001b[0m\u001b[1;33m)\u001b[0m\u001b[1;33m.\u001b[0m\u001b[0mravel\u001b[0m\u001b[1;33m(\u001b[0m\u001b[1;33m)\u001b[0m\u001b[1;33m\u001b[0m\u001b[0m\n\u001b[0m\u001b[0;32m    664\u001b[0m         \u001b[1;32melse\u001b[0m\u001b[1;33m:\u001b[0m\u001b[1;33m\u001b[0m\u001b[0m\n\u001b[0;32m    665\u001b[0m             \u001b[0my\u001b[0m \u001b[1;33m=\u001b[0m \u001b[0mself\u001b[0m\u001b[1;33m.\u001b[0m\u001b[0m_y\u001b[0m\u001b[1;33m\u001b[0m\u001b[0m\n",
      "\u001b[1;32m~\\Anaconda3\\lib\\site-packages\\matplotlib\\cbook\\__init__.py\u001b[0m in \u001b[0;36m_to_unmasked_float_array\u001b[1;34m(x)\u001b[0m\n\u001b[0;32m   2005\u001b[0m         \u001b[1;32mreturn\u001b[0m \u001b[0mnp\u001b[0m\u001b[1;33m.\u001b[0m\u001b[0mma\u001b[0m\u001b[1;33m.\u001b[0m\u001b[0masarray\u001b[0m\u001b[1;33m(\u001b[0m\u001b[0mx\u001b[0m\u001b[1;33m,\u001b[0m \u001b[0mfloat\u001b[0m\u001b[1;33m)\u001b[0m\u001b[1;33m.\u001b[0m\u001b[0mfilled\u001b[0m\u001b[1;33m(\u001b[0m\u001b[0mnp\u001b[0m\u001b[1;33m.\u001b[0m\u001b[0mnan\u001b[0m\u001b[1;33m)\u001b[0m\u001b[1;33m\u001b[0m\u001b[0m\n\u001b[0;32m   2006\u001b[0m     \u001b[1;32melse\u001b[0m\u001b[1;33m:\u001b[0m\u001b[1;33m\u001b[0m\u001b[0m\n\u001b[1;32m-> 2007\u001b[1;33m         \u001b[1;32mreturn\u001b[0m \u001b[0mnp\u001b[0m\u001b[1;33m.\u001b[0m\u001b[0masarray\u001b[0m\u001b[1;33m(\u001b[0m\u001b[0mx\u001b[0m\u001b[1;33m,\u001b[0m \u001b[0mfloat\u001b[0m\u001b[1;33m)\u001b[0m\u001b[1;33m\u001b[0m\u001b[0m\n\u001b[0m\u001b[0;32m   2008\u001b[0m \u001b[1;33m\u001b[0m\u001b[0m\n\u001b[0;32m   2009\u001b[0m \u001b[1;33m\u001b[0m\u001b[0m\n",
      "\u001b[1;32m~\\Anaconda3\\lib\\site-packages\\numpy\\core\\numeric.py\u001b[0m in \u001b[0;36masarray\u001b[1;34m(a, dtype, order)\u001b[0m\n\u001b[0;32m    490\u001b[0m \u001b[1;33m\u001b[0m\u001b[0m\n\u001b[0;32m    491\u001b[0m     \"\"\"\n\u001b[1;32m--> 492\u001b[1;33m     \u001b[1;32mreturn\u001b[0m \u001b[0marray\u001b[0m\u001b[1;33m(\u001b[0m\u001b[0ma\u001b[0m\u001b[1;33m,\u001b[0m \u001b[0mdtype\u001b[0m\u001b[1;33m,\u001b[0m \u001b[0mcopy\u001b[0m\u001b[1;33m=\u001b[0m\u001b[1;32mFalse\u001b[0m\u001b[1;33m,\u001b[0m \u001b[0morder\u001b[0m\u001b[1;33m=\u001b[0m\u001b[0morder\u001b[0m\u001b[1;33m)\u001b[0m\u001b[1;33m\u001b[0m\u001b[0m\n\u001b[0m\u001b[0;32m    493\u001b[0m \u001b[1;33m\u001b[0m\u001b[0m\n\u001b[0;32m    494\u001b[0m \u001b[1;33m\u001b[0m\u001b[0m\n",
      "\u001b[1;31mValueError\u001b[0m: setting an array element with a sequence."
     ]
    },
    {
     "data": {
      "image/png": "[encoded data removed]",
      "text/plain": [
       "<matplotlib.figure.Figure at 0x1a469d3bcc0>"
      ]
     },
     "metadata": {},
     "output_type": "display_data"
    }
   ],
   "source": [
    "import gym\n",
    "env = gym.make('Blackjack-v0')\n",
    "a=BlackJackAgent(env)\n",
    "epsilonValues=[0.9,0.5,0.25,0.1]\n",
    "calculatedRewards = []\n",
    "for epsilon in epsilonValues:\n",
    "    calculatedRewards.append(a.test_Experiment(epsilon=epsilon))\n",
    "for reward in calculatedRewards:\n",
    "    print(reward)\n",
    "    plt.plot(reward)"
   ]
  },
  {
   "cell_type": "markdown",
   "metadata": {},
   "source": [
    "### Explanation of BlackJackAgent :\n",
    "-init():Constructor of class for assigning environment, initializing Q table, taking action space and many more.<br>\n",
    "-train():Important method of the class to train the model; takes optional paramters as input if not given assigns default values. Initializes variables like win,loose, draw, rewards, etc.After execution of both loops we calculate the wins, loss and draws out of the total games played and thereby calculate their percentages as well.<br>\n",
    "-test():Like the Maze Problem RL Agent the test() methodis exactly similar to the train with only change that instead of updating the Q table, here we only fetch values from the Q-table while calling epsilon function.<br>\n",
    "-test_Experiment():It is just used to find best epsilon, gamma and alpha values for model.<br>\n",
    "-epsilon_greedy():If epsilon is smaller than random number, we get the action with maximum value for that state from the Q table dictionary and returns that value to be taken.This method either return value 1 for hit or 0 for stick based on which the next state is dependent."
   ]
  },
  {
   "cell_type": "code",
   "execution_count": 68,
   "metadata": {},
   "outputs": [
    {
     "data": {
      "image/png": "[encoded data removed]",
      "text/plain": [
       "<matplotlib.figure.Figure at 0x1a469de9080>"
      ]
     },
     "metadata": {},
     "output_type": "display_data"
    }
   ],
   "source": [
    "\n",
    "\n",
    "#epsilon\n",
    "import gym\n",
    "env = gym.make('Blackjack-v0')\n",
    "agent=BlackJackAgent(env)\n",
    "epsilonValues=[0.1,0.2,0.3,0.4]\n",
    "calculatedRewards = []\n",
    "win=[]\n",
    "for epsilon in epsilonValues:\n",
    "    rtrace,winPercentage = agent.test_Experiment(epsilon=epsilon)\n",
    "    calculatedRewards.append(rtrace)\n",
    "    win.append(winPercentage)\n",
    "    \n",
    "rewardSum=[]\n",
    "for reward in calculatedRewards:\n",
    "    rewardSum.append(sum(reward))\n",
    "\n",
    "plt.title(\"Epsilon value vs Win Percentage\")\n",
    "plt.xlabel(\"Epsilon\")\n",
    "plt.ylabel(\"Win Percentage\")\n",
    "plt.plot(epsilonValues,win)\n",
    "plt.show()"
   ]
  },
  {
   "cell_type": "code",
   "execution_count": 69,
   "metadata": {},
   "outputs": [
    {
     "data": {
      "image/png": "[encoded data removed]",
      "text/plain": [
       "<matplotlib.figure.Figure at 0x1a46a228a58>"
      ]
     },
     "metadata": {},
     "output_type": "display_data"
    }
   ],
   "source": [
    "\n",
    "\n",
    "#alpa\n",
    "\n",
    "import gym\n",
    "env = gym.make('Blackjack-v0')\n",
    "agent=BlackJackAgent(env)\n",
    "alphaValues=[0.1,0.2,0.3,0.4,0.5]\n",
    "calculatedRewards = []\n",
    "win=[]\n",
    "for alpha in alphaValues:\n",
    "    rtrace,winPercentage = agent.test_Experiment(alpha=alpha)\n",
    "    calculatedRewards.append(rtrace)\n",
    "    win.append(winPercentage)\n",
    "    \n",
    "rewardSum=[]\n",
    "for reward in calculatedRewards:\n",
    "    rewardSum.append(sum(reward))\n",
    "\n",
    "plt.plot(alphaValues,rewardSum)\n",
    "plt.title(\"Alpha value vs Reward\")\n",
    "plt.xlabel(\"Alpha\")\n",
    "plt.ylabel(\"Rewards\")\n",
    "plt.show()\n"
   ]
  },
  {
   "cell_type": "code",
   "execution_count": 70,
   "metadata": {},
   "outputs": [
    {
     "data": {
      "image/png": "[encoded data removed]",
      "text/plain": [
       "<matplotlib.figure.Figure at 0x1a46a228be0>"
      ]
     },
     "metadata": {},
     "output_type": "display_data"
    }
   ],
   "source": [
    "\n",
    "#gamma\n",
    "\n",
    "import gym\n",
    "env = gym.make('Blackjack-v0')\n",
    "agent=BlackJackAgent(env)\n",
    "gammaValues=[0.10,0.20,0.40,0.80,0.99]\n",
    "calculatedRewards = []\n",
    "win=[]\n",
    "for gamma in gammaValues:\n",
    "    rtrace,winPercentage = agent.test_Experiment(gamma=gamma)\n",
    "    calculatedRewards.append(rtrace)\n",
    "    win.append(winPercentage)\n",
    "    \n",
    "rewardSum=[]\n",
    "for reward in calculatedRewards:\n",
    "    rewardSum.append(sum(reward))\n",
    "\n",
    "plt.plot(gammaValues,rewardSum)\n",
    "plt.title(\"Gamma values vs Reward\")\n",
    "plt.xlabel(\"Gamma\")\n",
    "plt.ylabel(\"Rewards\")\n",
    "plt.show()\n"
   ]
  },
  {
   "cell_type": "markdown",
   "metadata": {},
   "source": [
    "# V. Conclusions\n",
    "I have learned to learn reinforcement learning and neural networks by this assignment.It made me go through various aspects of SARSA and Q learning.Implementing both the algorithms,I understood that SARSA was better and easy to implemt.\n",
    "\n",
    "References:\n",
    "https://curiouscoder.space/blog/machine%20learning/teaching-a-computer-blackjack-using-reinforcement-learning/\n",
    "https://en.wikipedia.org/wiki/State%E2%80%93action%E2%80%93reward%E2%80%93state%E2%80%93action"
   ]
  }
 ],
 "metadata": {
  "kernelspec": {
   "display_name": "Python 3",
   "language": "python",
   "name": "python3"
  },
  "language_info": {
   "codemirror_mode": {
    "name": "ipython",
    "version": 3
   },
   "file_extension": ".py",
   "mimetype": "text/x-python",
   "name": "python",
   "nbconvert_exporter": "python",
   "pygments_lexer": "ipython3",
   "version": "3.6.4"
  }
 },
 "nbformat": 4,
 "nbformat_minor": 2
}
